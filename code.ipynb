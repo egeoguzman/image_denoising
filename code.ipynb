{
 "cells": [
  {
   "cell_type": "code",
   "execution_count": 1,
   "metadata": {},
   "outputs": [],
   "source": [
    "#Importing libraries.\n",
    "import os\n",
    "import cv2 as cv\n",
    "import numpy as np"
   ]
  },
  {
   "cell_type": "code",
   "execution_count": 2,
   "metadata": {},
   "outputs": [],
   "source": [
    "#def waitForInput():\n",
    "#    cv.waitKey()\n",
    "#    cv.destroyAllWindows()"
   ]
  },
  {
   "cell_type": "code",
   "execution_count": 3,
   "metadata": {},
   "outputs": [],
   "source": [
    "#Find the all .jpg files in the folder and declare the path.\n",
    "#Read the every images and add to the list.\n",
    "#Sort them according to number of pictures.\n",
    "imageformat=\".jpg\"\n",
    "path=\"/Users/egeoguzman/Desktop/dip_hw/flowers\"\n",
    "files=[os.path.join(path,f) for f in os.listdir(path) if f.endswith(imageformat)]\n",
    "files.sort()"
   ]
  },
  {
   "cell_type": "code",
   "execution_count": 4,
   "metadata": {},
   "outputs": [
    {
     "name": "stdout",
     "output_type": "stream",
     "text": [
      "600 800 3\n"
     ]
    }
   ],
   "source": [
    "#Get size of image. (All images have same size)\n",
    "temp_img = cv.imread(files[0])\n",
    "dimensions = temp_img.shape\n",
    "WIDTH = dimensions[0]\n",
    "HIGH = dimensions[1]\n",
    "COLOR_CHANNEL = dimensions[2]\n",
    "print(WIDTH,HIGH,COLOR_CHANNEL)"
   ]
  },
  {
   "cell_type": "code",
   "execution_count": 7,
   "metadata": {},
   "outputs": [],
   "source": [
    "#Functions get one parameter \"n\" that is represent number of image that we take for process.\n",
    "#Create a template zero matrix that has same size with the images' sizes. (600,800,3).\n",
    "#Loop is reading a images one by one and add to the zero matrix.\n",
    "#Take the average of images.\n",
    "#Normalize the result to squeeze the values between 0-255\n",
    "#Write the images as a \"output.jpg\"\n",
    "def avrg_func(n):\n",
    "    sum_arr = np.zeros((600,800,3)).astype(np.float)\n",
    "    for file in files[0:n]:\n",
    "        img = cv.imread(file).astype(float)\n",
    "        sum_arr = sum_arr + img\n",
    "    denoised_img = sum_arr / n\n",
    "    output = cv.normalize(denoised_img, None, 0, 255, cv.NORM_MINMAX)\n",
    "    cv.imwrite(\"/Users/egeoguzman/Desktop/dip_hw/output/output_{}_images.jpg\".format(n),output)"
   ]
  },
  {
   "cell_type": "code",
   "execution_count": 8,
   "metadata": {},
   "outputs": [],
   "source": [
    "#Run the function with different parameters which represent a number of image.\n",
    "avrg_func(5)\n",
    "avrg_func(10)\n",
    "avrg_func(20)\n",
    "avrg_func(50)\n",
    "avrg_func(80)"
   ]
  },
  {
   "cell_type": "code",
   "execution_count": null,
   "metadata": {},
   "outputs": [],
   "source": []
  }
 ],
 "metadata": {
  "kernelspec": {
   "display_name": "virtualenv",
   "language": "python",
   "name": "virtualenv"
  },
  "language_info": {
   "codemirror_mode": {
    "name": "ipython",
    "version": 3
   },
   "file_extension": ".py",
   "mimetype": "text/x-python",
   "name": "python",
   "nbconvert_exporter": "python",
   "pygments_lexer": "ipython3",
   "version": "3.7.7"
  }
 },
 "nbformat": 4,
 "nbformat_minor": 4
}
